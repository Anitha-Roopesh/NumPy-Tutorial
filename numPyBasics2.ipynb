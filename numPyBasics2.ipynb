{
 "cells": [
  {
   "cell_type": "markdown",
   "source": [
    "<h2 style='color:darkgreen'> Basic mathematical functions in numPy</h2>\n"
   ],
   "metadata": {}
  },
  {
   "cell_type": "code",
   "execution_count": 2,
   "source": [
    "# import numPy package and alias as np\n",
    "\n",
    "import numpy as np"
   ],
   "outputs": [],
   "metadata": {}
  },
  {
   "cell_type": "code",
   "execution_count": 2,
   "source": [
    "# array addition\n",
    "\n",
    "# create an array x and y and perform addtion / sum \n",
    "\n",
    "x = np.array([[1, 2, 3],[1, 2, 3]])\n",
    "\n",
    "y = np.array([1, 1, 1])\n",
    "\n",
    "z = x + y                                                         # elementwise addition\n",
    "\n",
    "print(' ')\n",
    "\n",
    "print(z)                                                          # prints [[2 3 4]\n",
    "                                                                  #          [2 3 4]]\n",
    "\n",
    "print(\"\\n Add function to find sum of two array\\n\")\n",
    "\n",
    "print(np.add(x ,y ))                                              # prints [[2 3 4]\n",
    "                                                                  #          [2 3 4]]   same as  operator '+'"
   ],
   "outputs": [
    {
     "output_type": "stream",
     "name": "stdout",
     "text": [
      " \n",
      "[[2 3 4]\n",
      " [2 3 4]]\n",
      "\n",
      " Add function to find sum of two array\n",
      "\n",
      "[[2 3 4]\n",
      " [2 3 4]]\n"
     ]
    }
   ],
   "metadata": {}
  },
  {
   "cell_type": "code",
   "execution_count": 3,
   "source": [
    "# array subtraction\n",
    "\n",
    "# create an array x and y and perform subtraction / difference\n",
    "\n",
    "x = np.array([[1, 2, 3], [1, 2, 3]])\n",
    "\n",
    "y = np.array([[1, 2, 3], [1, 2, 3]])\n",
    "\n",
    "z = x - y                                                         # elementwise subtraction\n",
    "\n",
    "print(' ')\n",
    "\n",
    "print(z)                                                          # prints    [[0 0 0]\n",
    "                                                                  #            [0 0 0]]\n",
    "\n",
    "\n",
    "print(\"\\n subtract function to find difference of two array\\n\")\n",
    "\n",
    "print(np.subtract(x ,y ))                                              # prints [[0 0 0]\n",
    "                                                                  #             [0 0 0]] same as operator '-'"
   ],
   "outputs": [
    {
     "output_type": "stream",
     "name": "stdout",
     "text": [
      " \n",
      "[[0 0 0]\n",
      " [0 0 0]]\n",
      "\n",
      " subtract function to find difference of two array\n",
      "\n",
      "[[0 0 0]\n",
      " [0 0 0]]\n"
     ]
    }
   ],
   "metadata": {}
  },
  {
   "cell_type": "code",
   "execution_count": 4,
   "source": [
    "# array multiplication\n",
    "\n",
    "# NOTE that its not matrix multiplication\n",
    " \n",
    "# create an array x and y and perform multiplication / product\n",
    "\n",
    "\n",
    "x = np.array([[1, 2, 3], [1, 2, 3]])\n",
    "\n",
    "y = np.array([[2, 2, 2], [1, 1, 1]])\n",
    "\n",
    "z = x * y\n",
    "\n",
    "print(' ')\n",
    "\n",
    "print(z)                                                          # prints    [[2 4 6]\n",
    "                                                                  #            [1 2 3]]\n",
    "\n",
    "print(\"\\n multiply function to find product of two array\\n\")\n",
    "\n",
    "print(np.multiply(x ,y ))                                         # performs elementwise multiplication\n",
    "                                                                \n",
    "                                                                  # prints    [[2 4 6]\n",
    "                                                                  #            [1 2 3]]  same as operator '-'"
   ],
   "outputs": [
    {
     "output_type": "stream",
     "name": "stdout",
     "text": [
      " \n",
      "[[2 4 6]\n",
      " [1 2 3]]\n",
      "\n",
      " multiply function to find product of two array\n",
      "\n",
      "[[2 4 6]\n",
      " [1 2 3]]\n"
     ]
    }
   ],
   "metadata": {}
  },
  {
   "cell_type": "code",
   "execution_count": 5,
   "source": [
    "# array division\n",
    "\n",
    "x = np.array([[1, 2, 3], [1, 2, 3]])\n",
    "\n",
    "y = np.array([[1, 1, 1], [1, 2, 3]])\n",
    "\n",
    "z = x / y                                                         # elementwise division\n",
    "\n",
    "print(' ')\n",
    "\n",
    "print(z)                                                          # prints   [[1. 2. 3.]\n",
    "                                                                  #           [1. 1. 1.]]\n",
    "\n",
    "\n",
    "print(\"\\n divide function to perform division of two array\\n\")\n",
    "\n",
    "print(np.divide(x ,y ))                                              # prints   [[1. 2. 3.]\n",
    "                                                                  #              [1. 1. 1.]] same as operator '/'"
   ],
   "outputs": [
    {
     "output_type": "stream",
     "name": "stdout",
     "text": [
      " \n",
      "[[1. 2. 3.]\n",
      " [1. 1. 1.]]\n",
      "\n",
      " divide function to perform division of two array\n",
      "\n",
      "[[1. 2. 3.]\n",
      " [1. 1. 1.]]\n"
     ]
    }
   ],
   "metadata": {}
  },
  {
   "cell_type": "code",
   "execution_count": 6,
   "source": [
    "# find square root\n",
    "import numpy as np\n",
    "\n",
    "x = np.array([[4 ,25 ], [16 ,36]])                               # creates an np array \n",
    "print(' ')\n",
    "print(np.sqrt(x))                                                # perform element-wise operation\n",
    "                                                                 "
   ],
   "outputs": [
    {
     "output_type": "stream",
     "name": "stdout",
     "text": [
      " \n",
      "[[2. 5.]\n",
      " [4. 6.]]\n"
     ]
    }
   ],
   "metadata": {}
  },
  {
   "cell_type": "markdown",
   "source": [
    "Changing the Shape of an array\n"
   ],
   "metadata": {}
  },
  {
   "cell_type": "code",
   "execution_count": 9,
   "source": [
    "# function to reshape an array\n",
    "# create a 1D array\n",
    "\n",
    "x = np.array([1 ,2 ,3 ,4 ,5 ,6 ,7 ,8 ])                           \n",
    "print(' ')\n",
    "print(x)                                                          # prints [1 2 3 4 5 6 7 8]\n",
    " \n",
    "y = x.reshape(2 ,4)                                               # reshape array into 2 * 4 \n",
    "print(' ')\n",
    "print(y)"
   ],
   "outputs": [
    {
     "output_type": "stream",
     "name": "stdout",
     "text": [
      " \n",
      "[1 2 3 4 5 6 7 8]\n",
      " \n",
      "[[1 2 3 4]\n",
      " [5 6 7 8]]\n"
     ]
    }
   ],
   "metadata": {}
  },
  {
   "cell_type": "code",
   "execution_count": 22,
   "source": [
    "# flatten an array\n",
    "\n",
    "print(' ')\n",
    "\n",
    "y.flatten()                                                         # reshape array into single dimension "
   ],
   "outputs": [
    {
     "output_type": "stream",
     "name": "stdout",
     "text": [
      " \n"
     ]
    },
    {
     "output_type": "execute_result",
     "data": {
      "text/plain": [
       "array([1, 2, 3, 1, 2, 3])"
      ]
     },
     "metadata": {},
     "execution_count": 22
    }
   ],
   "metadata": {}
  },
  {
   "cell_type": "code",
   "execution_count": 21,
   "source": [
    "# ravel function to flatten an array\n",
    "\n",
    "\n",
    "x = np.array([[1, 2, 3], [1, 2, 3]])\n",
    "\n",
    "print(' ')\n",
    "\n",
    "print(x.shape)\n",
    "\n",
    "y = x.ravel()\n",
    "\n",
    "print(' ')\n",
    "\n",
    "print(y)\n",
    "\n",
    "print(' ')\n",
    "\n",
    "print(y.shape)"
   ],
   "outputs": [
    {
     "output_type": "stream",
     "name": "stdout",
     "text": [
      " \n",
      "(2, 3)\n",
      " \n",
      "[1 2 3 1 2 3]\n",
      " \n",
      "(6,)\n"
     ]
    }
   ],
   "metadata": {}
  },
  {
   "cell_type": "markdown",
   "source": [
    "**Mathematical Functions for matrix** "
   ],
   "metadata": {}
  },
  {
   "cell_type": "code",
   "execution_count": 40,
   "source": [
    "# matrix multiplication\n",
    "\n",
    "mat1 = np.matrix([[1 ,2 ,3] ,[2 ,4 ,1], [3 ,5 ,3]])\n",
    "\n",
    "mat2 = np.matrix([[1 ,2 ,2] ,[2 ,4 ,1], [1 ,1 ,1]])\n",
    "\n",
    "prod1 = np.matmul(mat1 ,mat2)                                     # both matmul and dot performs matrix \n",
    "                                                                      \n",
    "prod2 = mat1.dot(mat2)                                            # multiplication but with different broadcasting\n",
    "                                                                      \n",
    "print(prod1)                                                                 # rules\n",
    "\n",
    "print(' ')\n",
    "\n",
    "print(prod2)\n",
    "\n",
    "print(' ')\n",
    "\n"
   ],
   "outputs": [
    {
     "output_type": "stream",
     "name": "stdout",
     "text": [
      "[[ 8 13  7]\n",
      " [11 21  9]\n",
      " [16 29 14]]\n",
      " \n",
      "[[ 8 13  7]\n",
      " [11 21  9]\n",
      " [16 29 14]]\n",
      " \n"
     ]
    }
   ],
   "metadata": {}
  },
  {
   "cell_type": "code",
   "execution_count": 32,
   "source": [
    "# inverse of a matrix\n",
    "\n",
    "mat3 = np.matrix([[1 ,4 ,3] ,[2 ,2 ,1], [7 ,5 ,9]])\n",
    "\n",
    "print(np.linalg.inv(mat3))"
   ],
   "outputs": [
    {
     "output_type": "stream",
     "name": "stdout",
     "text": [
      "[[-0.30232558  0.48837209  0.04651163]\n",
      " [ 0.25581395  0.27906977 -0.11627907]\n",
      " [ 0.09302326 -0.53488372  0.13953488]]\n"
     ]
    }
   ],
   "metadata": {}
  },
  {
   "cell_type": "code",
   "execution_count": 39,
   "source": [
    "# transpose of a matrix\n",
    "\n",
    "trans = np.transpose(mat3)\n",
    "\n",
    "print(trans)\n",
    "\n",
    "print(' ')\n",
    "\n",
    "print(mat3.T)"
   ],
   "outputs": [
    {
     "output_type": "stream",
     "name": "stdout",
     "text": [
      "[[1 2 7]\n",
      " [4 2 5]\n",
      " [3 1 9]]\n",
      "[[1 2 7]\n",
      " [4 2 5]\n",
      " [3 1 9]]\n"
     ]
    }
   ],
   "metadata": {}
  },
  {
   "cell_type": "markdown",
   "source": [
    "**Joining and Stacking Arrays**\n",
    "\n",
    "1. concatenate\n",
    "2. stack\n",
    "3. hstack\n",
    "4. vstack"
   ],
   "metadata": {}
  },
  {
   "cell_type": "code",
   "execution_count": 46,
   "source": [
    "# perform concatenate and stacking two arrays \n",
    "\n",
    "# if we do not specify axis , by default it is 0\n",
    "\n",
    "arr1 = np.array([[1 ,2 ,3]  ,[4 ,5 ,6] ,[7 ,8 ,9]])\n",
    "\n",
    "arr2 = np.array([[1 ,1 ,1] ,[2 ,2 ,2] ,[3 ,3 ,3]])\n",
    "\n",
    "# concatenate function\n",
    "\n",
    "print('\\n concatenate along axis 0: \\n')\n",
    "\n",
    "arr_conc0 = np.concatenate((arr1 ,arr2) ,axis = 0 )                 # concatenates array along rows i. e axis 0  \n",
    "\n",
    "print(arr_conc0)\n",
    "\n",
    "print('\\n concatenate along axis 1 :\\n')\n",
    "\n",
    "arr_conc1 = np.concatenate((arr1 ,arr2) ,axis = 1 )                 # concatenates array along columns i. e axis 0  \n",
    "\n",
    "print(arr_conc1)\n",
    "\n",
    "\n",
    "\n",
    "\n"
   ],
   "outputs": [
    {
     "output_type": "stream",
     "name": "stdout",
     "text": [
      "\n",
      " concatenate along axis 0: \n",
      "\n",
      "[[1 2 3]\n",
      " [4 5 6]\n",
      " [7 8 9]\n",
      " [1 1 1]\n",
      " [2 2 2]\n",
      " [3 3 3]]\n",
      "\n",
      " concatenate along axis 1 :\n",
      "\n",
      "[[1 2 3 1 1 1]\n",
      " [4 5 6 2 2 2]\n",
      " [7 8 9 3 3 3]]\n"
     ]
    }
   ],
   "metadata": {}
  },
  {
   "cell_type": "code",
   "execution_count": 47,
   "source": [
    "# stacking is same as concatenation , only difference is it is done along a new axis.\n",
    "\n",
    "print('\\n stack along axis 0: \\n')\n",
    "\n",
    "arr_sta0 = np.stack((arr1 ,arr2) ,axis = 0 )                        \n",
    "\n",
    "print(arr_sta0)\n",
    "\n",
    "print('\\n stack along axis 1: \\n')\n",
    "\n",
    "arr_sta1 = np.stack((arr1 ,arr2) ,axis = 1 )\n",
    "\n",
    "print(arr_sta1)"
   ],
   "outputs": [
    {
     "output_type": "stream",
     "name": "stdout",
     "text": [
      "\n",
      " stack along axis 0: \n",
      "\n",
      "[[[1 2 3]\n",
      "  [4 5 6]\n",
      "  [7 8 9]]\n",
      "\n",
      " [[1 1 1]\n",
      "  [2 2 2]\n",
      "  [3 3 3]]]\n",
      "\n",
      " stack along axis 1: \n",
      "\n",
      "[[[1 2 3]\n",
      "  [1 1 1]]\n",
      "\n",
      " [[4 5 6]\n",
      "  [2 2 2]]\n",
      "\n",
      " [[7 8 9]\n",
      "  [3 3 3]]]\n"
     ]
    }
   ],
   "metadata": {}
  },
  {
   "cell_type": "code",
   "execution_count": 48,
   "source": [
    "# vertical and horizontal stacking\n",
    "\n",
    "arr_vsta = np.vstack((arr1 ,arr2))\n",
    "\n",
    "print('\\n vertical stacking : \\n')\n",
    "\n",
    "print(arr_vsta)\n",
    "\n",
    "print('\\n horizontally stacking : \\n')\n",
    "\n",
    "arr_hsta = np.hstack((arr1 ,arr2))\n",
    "\n",
    "print(arr_hsta)"
   ],
   "outputs": [
    {
     "output_type": "stream",
     "name": "stdout",
     "text": [
      "\n",
      " vertical stacking : \n",
      "\n",
      "[[1 2 3]\n",
      " [4 5 6]\n",
      " [7 8 9]\n",
      " [1 1 1]\n",
      " [2 2 2]\n",
      " [3 3 3]]\n",
      "\n",
      " horizontally stacking : \n",
      "\n",
      "[[1 2 3 1 1 1]\n",
      " [4 5 6 2 2 2]\n",
      " [7 8 9 3 3 3]]\n"
     ]
    }
   ],
   "metadata": {}
  },
  {
   "cell_type": "code",
   "execution_count": 4,
   "source": [
    "# Sorting\n",
    "\n",
    "arr_sort = np.array([3 , 5 ,2, 1 ,4])\n",
    "print(np.sort(arr_sort))\n"
   ],
   "outputs": [
    {
     "output_type": "stream",
     "name": "stdout",
     "text": [
      "[1 2 3 4 5]\n"
     ]
    }
   ],
   "metadata": {}
  },
  {
   "cell_type": "code",
   "execution_count": 6,
   "source": [
    "# Trignometric funtions \n",
    "# print sine , cosine , tan of the array\n",
    "\n",
    "arr_fun = np.array([1 , 2 , 3])\n",
    "print('Sine of array:\\n', np.sin(arr_fun))\n",
    "print('\\n cosine of array:\\n',np.cos(arr_fun))\n",
    "\n"
   ],
   "outputs": [
    {
     "output_type": "stream",
     "name": "stdout",
     "text": [
      "Sine of array:\n",
      " [0.84147098 0.90929743 0.14112001]\n",
      "\n",
      " cosine of array:\n",
      " [ 0.54030231 -0.41614684 -0.9899925 ]\n"
     ]
    }
   ],
   "metadata": {}
  },
  {
   "cell_type": "code",
   "execution_count": 8,
   "source": [
    "# Linear algebra functions\n",
    "\n",
    "# rank of matrix\n",
    "mat_algebra = np.array([[1 , 2 ,3],[4 , 5, 6],[7 , 8 ,9]])\n",
    "print('Rank of the matrix:\\n',np.linalg.matrix_rank(mat_algebra) )\n",
    "\n",
    "# determinant of matrix\n",
    "print('Determinant of the matrix:\\n',np.linalg.det(mat_algebra) )\n",
    "\n",
    "# Inverse of a matrix\n",
    "print('Inverse of the matrix:\\n',np.linalg.inv(mat_algebra) )\n",
    "\n",
    "# find eigen value and eigen vector\n",
    "print('Eigen values of the matrix:\\n',np.linalg.eigvals(mat_algebra) )"
   ],
   "outputs": [
    {
     "output_type": "stream",
     "name": "stdout",
     "text": [
      "Rank of the matrix:\n",
      " 2\n",
      "Determinant of the matrix:\n",
      " -9.51619735392994e-16\n",
      "Inverse of the matrix:\n",
      " [[ 3.15251974e+15 -6.30503948e+15  3.15251974e+15]\n",
      " [-6.30503948e+15  1.26100790e+16 -6.30503948e+15]\n",
      " [ 3.15251974e+15 -6.30503948e+15  3.15251974e+15]]\n",
      "Eigen values of the matrix:\n",
      " [ 1.61168440e+01 -1.11684397e+00 -9.75918483e-16]\n"
     ]
    }
   ],
   "metadata": {}
  },
  {
   "cell_type": "code",
   "execution_count": null,
   "source": [],
   "outputs": [],
   "metadata": {}
  }
 ],
 "metadata": {
  "kernelspec": {
   "name": "python3",
   "display_name": "Python 3.8.3 64-bit ('base': conda)"
  },
  "language_info": {
   "codemirror_mode": {
    "name": "ipython",
    "version": 3
   },
   "file_extension": ".py",
   "mimetype": "text/x-python",
   "name": "python",
   "nbconvert_exporter": "python",
   "pygments_lexer": "ipython3",
   "version": "3.8.3"
  },
  "interpreter": {
   "hash": "99bb696bbed8dce976c9191d0a36bc64c2fc5a12bbaaa0f617fffb0908ad3622"
  }
 },
 "nbformat": 4,
 "nbformat_minor": 4
}