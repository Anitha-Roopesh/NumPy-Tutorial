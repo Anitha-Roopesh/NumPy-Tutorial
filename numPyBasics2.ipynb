{
 "cells": [
  {
   "cell_type": "markdown",
   "metadata": {},
   "source": [
    "Basic mathematical functions in numPy\n"
   ]
  },
  {
   "cell_type": "code",
   "execution_count": 1,
   "metadata": {},
   "outputs": [],
   "source": [
    "# import numPy package and alias as np\n",
    "\n",
    "import numpy as np"
   ]
  },
  {
   "cell_type": "code",
   "execution_count": 2,
   "metadata": {},
   "outputs": [
    {
     "name": "stdout",
     "output_type": "stream",
     "text": [
      " \n",
      "[[2 3 4]\n",
      " [2 3 4]]\n",
      "\n",
      " Add function to find sum of two array\n",
      "\n",
      "[[2 3 4]\n",
      " [2 3 4]]\n"
     ]
    }
   ],
   "source": [
    "# array addition\n",
    "\n",
    "# create an array x and y and perform addtion / sum \n",
    "\n",
    "x = np.array([[1, 2, 3],[1, 2, 3]])\n",
    "\n",
    "y = np.array([1, 1, 1])\n",
    "\n",
    "z = x + y                                                         # elementwise addition\n",
    "\n",
    "print(' ')\n",
    "\n",
    "print(z)                                                          # prints [[2 3 4]\n",
    "                                                                  #          [2 3 4]]\n",
    "\n",
    "print(\"\\n Add function to find sum of two array\\n\")\n",
    "\n",
    "print(np.add(x ,y ))                                              # prints [[2 3 4]\n",
    "                                                                  #          [2 3 4]]   same as  operator '+'"
   ]
  },
  {
   "cell_type": "code",
   "execution_count": 3,
   "metadata": {},
   "outputs": [
    {
     "name": "stdout",
     "output_type": "stream",
     "text": [
      " \n",
      "[[0 0 0]\n",
      " [0 0 0]]\n",
      "\n",
      " subtract function to find difference of two array\n",
      "\n",
      "[[0 0 0]\n",
      " [0 0 0]]\n"
     ]
    }
   ],
   "source": [
    "# array subtraction\n",
    "\n",
    "# create an array x and y and perform subtraction / difference\n",
    "\n",
    "x = np.array([[1, 2, 3], [1, 2, 3]])\n",
    "\n",
    "y = np.array([[1, 2, 3], [1, 2, 3]])\n",
    "\n",
    "z = x - y                                                         # elementwise subtraction\n",
    "\n",
    "print(' ')\n",
    "\n",
    "print(z)                                                          # prints    [[0 0 0]\n",
    "                                                                  #            [0 0 0]]\n",
    "\n",
    "\n",
    "print(\"\\n subtract function to find difference of two array\\n\")\n",
    "\n",
    "print(np.subtract(x ,y ))                                              # prints [[0 0 0]\n",
    "                                                                  #             [0 0 0]] same as operator '-'"
   ]
  },
  {
   "cell_type": "code",
   "execution_count": 4,
   "metadata": {},
   "outputs": [
    {
     "name": "stdout",
     "output_type": "stream",
     "text": [
      " \n",
      "[[2 4 6]\n",
      " [1 2 3]]\n",
      "\n",
      " multiply function to find product of two array\n",
      "\n",
      "[[2 4 6]\n",
      " [1 2 3]]\n"
     ]
    }
   ],
   "source": [
    "# array multiplication\n",
    "\n",
    "# NOTE that its not matrix multiplication\n",
    " \n",
    "# create an array x and y and perform multiplication / product\n",
    "\n",
    "\n",
    "x = np.array([[1, 2, 3], [1, 2, 3]])\n",
    "\n",
    "y = np.array([[2, 2, 2], [1, 1, 1]])\n",
    "\n",
    "z = x * y\n",
    "\n",
    "print(' ')\n",
    "\n",
    "print(z)                                                          # prints    [[2 4 6]\n",
    "                                                                  #            [1 2 3]]\n",
    "\n",
    "print(\"\\n multiply function to find product of two array\\n\")\n",
    "\n",
    "print(np.multiply(x ,y ))                                         # performs elementwise multiplication\n",
    "                                                                \n",
    "                                                                  # prints    [[2 4 6]\n",
    "                                                                  #            [1 2 3]]  same as operator '-'"
   ]
  },
  {
   "cell_type": "code",
   "execution_count": 5,
   "metadata": {},
   "outputs": [
    {
     "name": "stdout",
     "output_type": "stream",
     "text": [
      " \n",
      "[[1. 2. 3.]\n",
      " [1. 1. 1.]]\n",
      "\n",
      " divide function to perform division of two array\n",
      "\n",
      "[[1. 2. 3.]\n",
      " [1. 1. 1.]]\n"
     ]
    }
   ],
   "source": [
    "# array division\n",
    "\n",
    "x = np.array([[1, 2, 3], [1, 2, 3]])\n",
    "\n",
    "y = np.array([[1, 1, 1], [1, 2, 3]])\n",
    "\n",
    "z = x / y                                                         # elementwise division\n",
    "\n",
    "print(' ')\n",
    "\n",
    "print(z)                                                          # prints   [[1. 2. 3.]\n",
    "                                                                  #           [1. 1. 1.]]\n",
    "\n",
    "\n",
    "print(\"\\n divide function to perform division of two array\\n\")\n",
    "\n",
    "print(np.divide(x ,y ))                                              # prints   [[1. 2. 3.]\n",
    "                                                                  #              [1. 1. 1.]] same as operator '/'"
   ]
  },
  {
   "cell_type": "code",
   "execution_count": 6,
   "metadata": {},
   "outputs": [
    {
     "name": "stdout",
     "output_type": "stream",
     "text": [
      " \n",
      "[[2. 5.]\n",
      " [4. 6.]]\n"
     ]
    }
   ],
   "source": [
    "# find square root\n",
    "import numpy as np\n",
    "\n",
    "x = np.array([[4 ,25 ], [16 ,36]])                               # creates an np array \n",
    "print(' ')\n",
    "print(np.sqrt(x))                                                # perform element-wise operation\n",
    "                                                                 "
   ]
  },
  {
   "cell_type": "markdown",
   "metadata": {},
   "source": [
    "Changing the Shape of an array\n"
   ]
  },
  {
   "cell_type": "code",
   "execution_count": 9,
   "metadata": {},
   "outputs": [
    {
     "name": "stdout",
     "output_type": "stream",
     "text": [
      " \n",
      "[1 2 3 4 5 6 7 8]\n",
      " \n",
      "[[1 2 3 4]\n",
      " [5 6 7 8]]\n"
     ]
    }
   ],
   "source": [
    "# function to reshape an array\n",
    "# create a 1D array\n",
    "\n",
    "x = np.array([1 ,2 ,3 ,4 ,5 ,6 ,7 ,8 ])                           \n",
    "print(' ')\n",
    "print(x)                                                          # prints [1 2 3 4 5 6 7 8]\n",
    " \n",
    "y = x.reshape(2 ,4)                                               # reshape array into 2 * 4 \n",
    "print(' ')\n",
    "print(y)"
   ]
  },
  {
   "cell_type": "code",
   "execution_count": 22,
   "metadata": {},
   "outputs": [
    {
     "name": "stdout",
     "output_type": "stream",
     "text": [
      " \n"
     ]
    },
    {
     "data": {
      "text/plain": [
       "array([1, 2, 3, 1, 2, 3])"
      ]
     },
     "execution_count": 22,
     "metadata": {},
     "output_type": "execute_result"
    }
   ],
   "source": [
    "# flatten an array\n",
    "\n",
    "print(' ')\n",
    "\n",
    "y.flatten()                                                         # reshape array into single dimension "
   ]
  },
  {
   "cell_type": "code",
   "execution_count": 21,
   "metadata": {},
   "outputs": [
    {
     "name": "stdout",
     "output_type": "stream",
     "text": [
      " \n",
      "(2, 3)\n",
      " \n",
      "[1 2 3 1 2 3]\n",
      " \n",
      "(6,)\n"
     ]
    }
   ],
   "source": [
    "# ravel function to flatten an array\n",
    "\n",
    "\n",
    "x = np.array([[1, 2, 3], [1, 2, 3]])\n",
    "\n",
    "print(' ')\n",
    "\n",
    "print(x.shape)\n",
    "\n",
    "y = x.ravel()\n",
    "\n",
    "print(' ')\n",
    "\n",
    "print(y)\n",
    "\n",
    "print(' ')\n",
    "\n",
    "print(y.shape)"
   ]
  },
  {
   "cell_type": "markdown",
   "metadata": {},
   "source": [
    "Mathematical Functions for matrix "
   ]
  },
  {
   "cell_type": "code",
   "execution_count": 40,
   "metadata": {},
   "outputs": [
    {
     "name": "stdout",
     "output_type": "stream",
     "text": [
      "[[ 8 13  7]\n",
      " [11 21  9]\n",
      " [16 29 14]]\n",
      " \n",
      "[[ 8 13  7]\n",
      " [11 21  9]\n",
      " [16 29 14]]\n",
      " \n"
     ]
    }
   ],
   "source": [
    "# matrix multiplication\n",
    "\n",
    "mat1 = np.matrix([[1 ,2 ,3] ,[2 ,4 ,1], [3 ,5 ,3]])\n",
    "\n",
    "mat2 = np.matrix([[1 ,2 ,2] ,[2 ,4 ,1], [1 ,1 ,1]])\n",
    "\n",
    "prod1 = np.matmul(mat1 ,mat2)                                     # both matmul and dot performs matrix \n",
    "                                                                      \n",
    "prod2 = mat1.dot(mat2)                                            # multiplication but with different broadcasting\n",
    "                                                                      \n",
    "print(prod1)                                                                 # rules\n",
    "\n",
    "print(' ')\n",
    "\n",
    "print(prod2)\n",
    "\n",
    "print(' ')\n",
    "\n"
   ]
  },
  {
   "cell_type": "code",
   "execution_count": 32,
   "metadata": {},
   "outputs": [
    {
     "name": "stdout",
     "output_type": "stream",
     "text": [
      "[[-0.30232558  0.48837209  0.04651163]\n",
      " [ 0.25581395  0.27906977 -0.11627907]\n",
      " [ 0.09302326 -0.53488372  0.13953488]]\n"
     ]
    }
   ],
   "source": [
    "# inverse of a matrix\n",
    "\n",
    "mat3 = np.matrix([[1 ,4 ,3] ,[2 ,2 ,1], [7 ,5 ,9]])\n",
    "\n",
    "print(np.linalg.inv(mat3))"
   ]
  },
  {
   "cell_type": "code",
   "execution_count": 39,
   "metadata": {},
   "outputs": [
    {
     "name": "stdout",
     "output_type": "stream",
     "text": [
      "[[1 2 7]\n",
      " [4 2 5]\n",
      " [3 1 9]]\n",
      "[[1 2 7]\n",
      " [4 2 5]\n",
      " [3 1 9]]\n"
     ]
    }
   ],
   "source": [
    "# transpose of a matrix\n",
    "\n",
    "trans = np.transpose(mat3)\n",
    "\n",
    "print(trans)\n",
    "\n",
    "print(' ')\n",
    "\n",
    "print(mat3.T)"
   ]
  },
  {
   "cell_type": "markdown",
   "metadata": {},
   "source": [
    "Joining and Stacking Arrays\n",
    "\n",
    "1. concatenate\n",
    "2. stack\n",
    "3. hstack\n",
    "4. vstack"
   ]
  },
  {
   "cell_type": "code",
   "execution_count": 46,
   "metadata": {},
   "outputs": [
    {
     "name": "stdout",
     "output_type": "stream",
     "text": [
      "\n",
      " concatenate along axis 0: \n",
      "\n",
      "[[1 2 3]\n",
      " [4 5 6]\n",
      " [7 8 9]\n",
      " [1 1 1]\n",
      " [2 2 2]\n",
      " [3 3 3]]\n",
      "\n",
      " concatenate along axis 1 :\n",
      "\n",
      "[[1 2 3 1 1 1]\n",
      " [4 5 6 2 2 2]\n",
      " [7 8 9 3 3 3]]\n"
     ]
    }
   ],
   "source": [
    "# perform concatenate and stacking two arrays\n",
    "\n",
    "arr1 = np.array([[1 ,2 ,3]  ,[4 ,5 ,6] ,[7 ,8 ,9]])\n",
    "\n",
    "arr2 = np.array([[1 ,1 ,1] ,[2 ,2 ,2] ,[3 ,3 ,3]])\n",
    "\n",
    "# concatenate function\n",
    "\n",
    "print('\\n concatenate along axis 0: \\n')\n",
    "\n",
    "arr_conc0 = np.concatenate((arr1 ,arr2) ,axis = 0 )                 # concatenates array along rows i. e axis 0  \n",
    "\n",
    "print(arr_conc0)\n",
    "\n",
    "print('\\n concatenate along axis 1 :\\n')\n",
    "\n",
    "arr_conc1 = np.concatenate((arr1 ,arr2) ,axis = 1 )                 # concatenates array along columns i. e axis 0  \n",
    "\n",
    "print(arr_conc1)\n",
    "\n",
    "\n",
    "\n",
    "\n"
   ]
  },
  {
   "cell_type": "code",
   "execution_count": 47,
   "metadata": {},
   "outputs": [
    {
     "name": "stdout",
     "output_type": "stream",
     "text": [
      "\n",
      " stack along axis 0: \n",
      "\n",
      "[[[1 2 3]\n",
      "  [4 5 6]\n",
      "  [7 8 9]]\n",
      "\n",
      " [[1 1 1]\n",
      "  [2 2 2]\n",
      "  [3 3 3]]]\n",
      "\n",
      " stack along axis 1: \n",
      "\n",
      "[[[1 2 3]\n",
      "  [1 1 1]]\n",
      "\n",
      " [[4 5 6]\n",
      "  [2 2 2]]\n",
      "\n",
      " [[7 8 9]\n",
      "  [3 3 3]]]\n"
     ]
    }
   ],
   "source": [
    "# stack\n",
    "\n",
    "print('\\n stack along axis 0: \\n')\n",
    "\n",
    "arr_sta0 = np.stack((arr1 ,arr2) ,axis = 0 )                        \n",
    "\n",
    "print(arr_sta0)\n",
    "\n",
    "print('\\n stack along axis 1: \\n')\n",
    "\n",
    "arr_sta1 = np.stack((arr1 ,arr2) ,axis = 1 )\n",
    "\n",
    "print(arr_sta1)"
   ]
  },
  {
   "cell_type": "code",
   "execution_count": 48,
   "metadata": {},
   "outputs": [
    {
     "name": "stdout",
     "output_type": "stream",
     "text": [
      "\n",
      " vertical stacking : \n",
      "\n",
      "[[1 2 3]\n",
      " [4 5 6]\n",
      " [7 8 9]\n",
      " [1 1 1]\n",
      " [2 2 2]\n",
      " [3 3 3]]\n",
      "\n",
      " horizontally stacking : \n",
      "\n",
      "[[1 2 3 1 1 1]\n",
      " [4 5 6 2 2 2]\n",
      " [7 8 9 3 3 3]]\n"
     ]
    }
   ],
   "source": [
    "# vertical and horizontal stacking\n",
    "\n",
    "arr_vsta = np.vstack((arr1 ,arr2))\n",
    "\n",
    "print('\\n vertical stacking : \\n')\n",
    "\n",
    "print(arr_vsta)\n",
    "\n",
    "print('\\n horizontally stacking : \\n')\n",
    "\n",
    "arr_hsta = np.hstack((arr1 ,arr2))\n",
    "\n",
    "print(arr_hsta)"
   ]
  },
  {
   "cell_type": "code",
   "execution_count": null,
   "metadata": {},
   "outputs": [],
   "source": []
  }
 ],
 "metadata": {
  "kernelspec": {
   "display_name": "Python 3",
   "language": "python",
   "name": "python3"
  },
  "language_info": {
   "codemirror_mode": {
    "name": "ipython",
    "version": 3
   },
   "file_extension": ".py",
   "mimetype": "text/x-python",
   "name": "python",
   "nbconvert_exporter": "python",
   "pygments_lexer": "ipython3",
   "version": "3.8.3"
  }
 },
 "nbformat": 4,
 "nbformat_minor": 4
}
