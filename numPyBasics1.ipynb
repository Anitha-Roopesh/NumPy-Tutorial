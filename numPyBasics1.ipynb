{
 "cells": [
  {
   "cell_type": "markdown",
   "metadata": {},
   "source": [
    "# NumPy"
   ]
  },
  {
   "cell_type": "markdown",
   "metadata": {},
   "source": [
    "\n",
    "Python package used for working with arrays ,linear algebra ,fourier transform and matrices.\n",
    "\n",
    "Includes special mathematical functions like cosine ,exponent , square root etc\n",
    "\n",
    "Faster than traditional python lists as NP arrays are stored at one continuous place in memory.\n"
   ]
  },
  {
   "cell_type": "markdown",
   "metadata": {},
   "source": [
    "To use numPy , it has to be imported using the keyword 'import'"
   ]
  },
  {
   "cell_type": "code",
   "execution_count": 2,
   "metadata": {},
   "outputs": [],
   "source": [
    "# alias numpy as np\n",
    "\n",
    "import numpy as np"
   ]
  },
  {
   "cell_type": "markdown",
   "metadata": {},
   "source": [
    "Different methods to create an array / matrices using numpy"
   ]
  },
  {
   "cell_type": "code",
   "execution_count": 3,
   "metadata": {},
   "outputs": [
    {
     "name": "stdout",
     "output_type": "stream",
     "text": [
      "\n",
      "[1 2 3 4 5 6 7 8]\n"
     ]
    }
   ],
   "source": [
    "# Simple method \n",
    "# converting list into a np array 1D\n",
    "\n",
    "arr = np.array([1,2,3,4,5,6,7,8])\n",
    "print('')\n",
    "print(arr)"
   ]
  },
  {
   "cell_type": "code",
   "execution_count": 4,
   "metadata": {},
   "outputs": [
    {
     "name": "stdout",
     "output_type": "stream",
     "text": [
      "\n",
      "[0 1 2 3 4 5 6 7 8 9]\n"
     ]
    }
   ],
   "source": [
    "# Using arange function to generate an array\n",
    "\n",
    "arr1 = np.arange(10)\n",
    "print('')\n",
    "print(arr1)"
   ]
  },
  {
   "cell_type": "code",
   "execution_count": 5,
   "metadata": {},
   "outputs": [
    {
     "name": "stdout",
     "output_type": "stream",
     "text": [
      "\n",
      "[2 3 4 5 6 7 8 9]\n",
      "Array includes start element 2 whereas excludes 10 \n"
     ]
    }
   ],
   "source": [
    "# arange function also takes two arg start and end where start is inclusive and stop is exclusive\n",
    "\n",
    "arr2 = np.arange(2,10)\n",
    "print('')\n",
    "print(arr2)\n",
    "print(\"Array includes start element 2 whereas excludes 10 \")"
   ]
  },
  {
   "cell_type": "code",
   "execution_count": 6,
   "metadata": {},
   "outputs": [
    {
     "name": "stdout",
     "output_type": "stream",
     "text": [
      "\n",
      "[1 3 5 7 9]\n"
     ]
    }
   ],
   "source": [
    "# arange func with three arg\n",
    "\n",
    "arr3 = np.arange(1,10,2)                     # third arg specifies the spacing or difference bet consecutive values\n",
    "print('')\n",
    "print(arr3)"
   ]
  },
  {
   "cell_type": "code",
   "execution_count": 7,
   "metadata": {},
   "outputs": [
    {
     "name": "stdout",
     "output_type": "stream",
     "text": [
      "\n",
      "[ 2.  4.  6.  8. 10. 12. 14. 16. 18. 20.]\n"
     ]
    }
   ],
   "source": [
    "# linspace is one more arraty creation function\n",
    "\n",
    "arr4 = np.linspace(2,20, num = 10)           # num tell number of values to be generated  \n",
    "print('')\n",
    "print(arr4)\n",
    "\n",
    "\n"
   ]
  },
  {
   "cell_type": "code",
   "execution_count": 8,
   "metadata": {},
   "outputs": [
    {
     "name": "stdout",
     "output_type": "stream",
     "text": [
      "\n",
      "[[1 2 3]\n",
      " [2 3 4]\n",
      " [3 5 4]]\n"
     ]
    }
   ],
   "source": [
    "# 3 * 3 array creation using np array\n",
    "\n",
    "arr5 = np.array([[1,2,3],[2,3,4],[3,5,4]])\n",
    "print('')\n",
    "print(arr5)"
   ]
  },
  {
   "cell_type": "code",
   "execution_count": 9,
   "metadata": {},
   "outputs": [
    {
     "name": "stdout",
     "output_type": "stream",
     "text": [
      "\n",
      "[[0. 0. 0.]\n",
      " [0. 0. 0.]\n",
      " [0. 0. 0.]]\n"
     ]
    }
   ],
   "source": [
    "# array creation 2D / ND\n",
    "\n",
    "# create a matrix with all zero entries using zeros function\n",
    " \n",
    "mat1 = np.zeros([3,3])                  \n",
    "print('')\n",
    "print(mat1)"
   ]
  },
  {
   "cell_type": "code",
   "execution_count": 10,
   "metadata": {},
   "outputs": [
    {
     "name": "stdout",
     "output_type": "stream",
     "text": [
      "\n",
      "[[1. 1. 1. 1.]\n",
      " [1. 1. 1. 1.]\n",
      " [1. 1. 1. 1.]\n",
      " [1. 1. 1. 1.]]\n"
     ]
    }
   ],
   "source": [
    "# create a 4 * 4 matix with all entries 1 using ones function\n",
    "\n",
    "mat2 = np.ones([4,4])\n",
    "print('')\n",
    "print(mat2)"
   ]
  },
  {
   "cell_type": "code",
   "execution_count": 11,
   "metadata": {},
   "outputs": [
    {
     "name": "stdout",
     "output_type": "stream",
     "text": [
      "\n",
      "[[1. 0. 0. 0.]\n",
      " [0. 1. 0. 0.]\n",
      " [0. 0. 1. 0.]\n",
      " [0. 0. 0. 1.]]\n"
     ]
    }
   ],
   "source": [
    "# create an identity matrix using eye function\n",
    "\n",
    "mat3 = np.eye(4)\n",
    "print('')\n",
    "print(mat3)"
   ]
  },
  {
   "cell_type": "code",
   "execution_count": 12,
   "metadata": {},
   "outputs": [
    {
     "name": "stdout",
     "output_type": "stream",
     "text": [
      "\n",
      "[[1 2 3]\n",
      " [4 5 6]\n",
      " [6 7 8]\n",
      " [8 9 0]]\n"
     ]
    }
   ],
   "source": [
    "# create a 4 * 3 matrix\n",
    "\n",
    "mat4  = np.matrix([[1,2,3],[4,5,6],[6,7,8],[8,9,0]])     \n",
    "print('')\n",
    "print(mat4)"
   ]
  },
  {
   "cell_type": "code",
   "execution_count": 13,
   "metadata": {},
   "outputs": [
    {
     "name": "stdout",
     "output_type": "stream",
     "text": [
      "\n",
      "[[6 6 6]\n",
      " [6 6 6]\n",
      " [6 6 6]]\n"
     ]
    }
   ],
   "source": [
    " # create a constant array with value 6 using full function\n",
    "\n",
    "mat5 = np.full((3 ,3 ), 6)          \n",
    "print('')\n",
    "print(mat5)"
   ]
  },
  {
   "cell_type": "raw",
   "metadata": {},
   "source": [
    "Array sample creation using random variable\n",
    "\n",
    "Three variants \n",
    "\n",
    "1: simple random data\n",
    "    returns sample from uniform distribution over (0 , 1)\n",
    "   \n",
    "2: standard normal data\n",
    "    Returns sample from standard normal distribution \n",
    "    \n",
    "3: Random integers\n",
    "    returns random integers from  low to high"
   ]
  },
  {
   "cell_type": "code",
   "execution_count": 14,
   "metadata": {},
   "outputs": [
    {
     "name": "stdout",
     "output_type": "stream",
     "text": [
      "\n",
      "[[1.19223667e-01 8.78951566e-01 3.98095927e-06 3.60120177e-01\n",
      "  7.45155250e-02]\n",
      " [4.19922688e-01 3.16441563e-01 9.33642695e-01 1.92267494e-01\n",
      "  7.97280196e-02]\n",
      " [9.68530212e-01 3.21748276e-01 3.66132810e-01 1.47865754e-01\n",
      "  9.29486250e-01]\n",
      " [4.21145732e-01 8.28107144e-01 9.75452727e-01 1.78361408e-01\n",
      "  3.27671108e-02]\n",
      " [9.76909182e-01 2.29477008e-01 9.75578046e-01 7.95896153e-01\n",
      "  6.84023990e-01]]\n"
     ]
    }
   ],
   "source": [
    "# Simple random data generation\n",
    "\n",
    "arr6 = np.random.rand(5,5)\n",
    "print('')\n",
    "print(arr6)"
   ]
  },
  {
   "cell_type": "code",
   "execution_count": 15,
   "metadata": {},
   "outputs": [
    {
     "name": "stdout",
     "output_type": "stream",
     "text": [
      "\n",
      "[[-0.25320376 -0.53735953 -1.72060809  0.35703393]\n",
      " [ 0.59221671  0.79733818 -0.01820985 -0.76274819]]\n"
     ]
    }
   ],
   "source": [
    "# standard normal\n",
    "\n",
    "arr7 = np.random.randn(2,4)\n",
    "print('')\n",
    "print(arr7)"
   ]
  },
  {
   "cell_type": "code",
   "execution_count": 16,
   "metadata": {},
   "outputs": [
    {
     "name": "stdout",
     "output_type": "stream",
     "text": [
      "\n",
      "[[ 5 26 32]\n",
      " [ 2 21  2]]\n"
     ]
    }
   ],
   "source": [
    "# random integers\n",
    "\n",
    "arr8 = np.random.randint(50, size=(2,3))\n",
    "print('')\n",
    "print(arr8)"
   ]
  },
  {
   "cell_type": "markdown",
   "metadata": {},
   "source": [
    "Array Indexing"
   ]
  },
  {
   "cell_type": "markdown",
   "metadata": {},
   "source": [
    "1 : Slicing \n",
    "    Numpy arrays can be sliced similar to python list but one thing to note here is since numpy array is N dimensional , required to specify slice for each dimension "
   ]
  },
  {
   "cell_type": "code",
   "execution_count": 17,
   "metadata": {},
   "outputs": [
    {
     "name": "stdout",
     "output_type": "stream",
     "text": [
      "\n",
      "[[1 2 4 5]\n",
      " [2 3 5 6]\n",
      " [3 4 5 6]]\n",
      "\n",
      "sub array of arr6 is:\n",
      "\n",
      "[[2 4]\n",
      " [3 5]]\n"
     ]
    }
   ],
   "source": [
    "import numpy as np\n",
    "\n",
    "# create an array of the shape [3,4]\n",
    "# [1 , 2, 4, 5]\n",
    "# [2, 3, 5, 6]\n",
    "# [3, 4, 5, 6]\n",
    "\n",
    "arr6 = np.matrix([[1, 2, 4, 5] ,[2, 3, 5, 6] ,[3, 4, 5, 6]])\n",
    "print('')\n",
    "print(arr6)\n",
    "\n",
    "# use slicing to obtain the sub array of 2 * 2 with first two rows\n",
    "# consisting column 2 and 3 \n",
    "\n",
    "arr7 = arr6[0:2,1:3]                            \n",
    "print('')\n",
    "print(\"sub array of arr6 is:\")\n",
    "print('')\n",
    "print(arr7)"
   ]
  },
  {
   "cell_type": "markdown",
   "metadata": {},
   "source": [
    "2 : Boolean Array Indexing\n",
    "    Allows to pull the elements which satisfies the condition provided"
   ]
  },
  {
   "cell_type": "code",
   "execution_count": 18,
   "metadata": {},
   "outputs": [
    {
     "name": "stdout",
     "output_type": "stream",
     "text": [
      "Boolean Array is\n",
      "\n",
      "[[False  True False  True]\n",
      " [ True  True  True  True]\n",
      " [ True  True  True False]]\n",
      "\n",
      "[[2 4 2 4 6 8 4 6 8]]\n"
     ]
    }
   ],
   "source": [
    "# create an array and pick all the even numbers \n",
    "\n",
    "arr8 = np.matrix([[1, 2, 3, 4] ,[2, 4, 6, 8] ,[4, 6, 8, 1] ])\n",
    "\n",
    "bool_arr = (arr8 % 2 == 0)             # Checks for the even numbers in an array and returns numpy boolean array \n",
    "                                       # with same shape as the original array  , each element tells whether \n",
    "                                       # the number is even or not\n",
    "\n",
    "\n",
    "print('Boolean Array is\\n')\n",
    "print(bool_arr)                        # prints boolean array\n",
    "                                       # [[False  True False  True]\n",
    "                                       #  [ True  True  True  True]\n",
    "                                       #  [ True  True  True False]]\n",
    "\n",
    "print('')\n",
    "\n",
    "print(arr8[bool_arr])                 # prints all the even numbers [[2 4 2 4 6 8 4 6 8]]\n",
    "\n"
   ]
  },
  {
   "cell_type": "markdown",
   "metadata": {},
   "source": [
    "3 : Integer Array Indexing\n",
    "   Slicing gives the subarray of the original array whereas integer indexing allows us to construct arbitrary array using the elements from another array."
   ]
  },
  {
   "cell_type": "code",
   "execution_count": 19,
   "metadata": {
    "scrolled": true
   },
   "outputs": [
    {
     "name": "stdout",
     "output_type": "stream",
     "text": [
      "\n",
      " original array \n",
      "\n",
      "[[1 2]\n",
      " [3 4]]\n",
      "\n",
      " Arbitrary array created using original \n",
      "\n",
      "[[1 4]]\n"
     ]
    }
   ],
   "source": [
    "# create an array \n",
    "\n",
    "arr9 = np.matrix([[1, 2] ,[3, 4]])\n",
    "\n",
    "print('\\n original array \\n')\n",
    "print(arr9)                                         # prints  [[1 2]\n",
    "                                                    #           [3 4]]\n",
    "\n",
    "\n",
    "intindex_arr = arr9[[0, 1],[0 ,1]]                  # selects 0 row 0 colum element which is 1 and 1:1 element\n",
    "                                                    # which is 4\n",
    "\n",
    "print('\\n Arbitrary array created using original \\n')\n",
    "\n",
    "print(intindex_arr)                                 # prints [[1 4]]"
   ]
  },
  {
   "cell_type": "code",
   "execution_count": 23,
   "metadata": {},
   "outputs": [
    {
     "name": "stdout",
     "output_type": "stream",
     "text": [
      " \n",
      "[[1 1 1]\n",
      " [1 4 4]]\n",
      " \n",
      "[1 4]\n"
     ]
    }
   ],
   "source": [
    "# Unique fuction to extract unique element from the array\n",
    "\n",
    "arr10 = np.array([[1, 1,  1],[1, 4, 4]])\n",
    "print(\" \")\n",
    "print(arr10)\n",
    "print(' ')\n",
    "print(np.unique(arr10))"
   ]
  },
  {
   "cell_type": "code",
   "execution_count": 26,
   "metadata": {},
   "outputs": [
    {
     "name": "stdout",
     "output_type": "stream",
     "text": [
      " \n",
      "[[0.82481198 0.35889045 0.33064443 0.64380939 0.87625921]\n",
      " [0.69431954 0.31832415 0.26573783 0.52101688 0.26291467]\n",
      " [0.42439501 0.01412467 0.25213884 0.09869507 0.54354276]\n",
      " [0.50928079 0.71950532 0.05103175 0.3933701  0.71877822]]\n",
      " \n",
      "(4, 5)\n"
     ]
    }
   ],
   "source": [
    "# shape function to get the shape of an array\n",
    "\n",
    "arr11 = np.random.rand(4 ,5)                       # prints 4 * 5 array of random elements \n",
    "print(' ')\n",
    "print(arr11)\n",
    "print(' ')\n",
    "print(np.shape(arr11))                             # returns (4, 5) which is the shape of the array"
   ]
  },
  {
   "cell_type": "code",
   "execution_count": 27,
   "metadata": {},
   "outputs": [
    {
     "name": "stdout",
     "output_type": "stream",
     "text": [
      " \n",
      "2\n"
     ]
    }
   ],
   "source": [
    "# dimension of an array\n",
    "\n",
    "arr12 = np.random.rand(3 ,4)\n",
    "print(' ')\n",
    "print(np.ndim(arr12))                               # returns dimension of the array i.e 2"
   ]
  },
  {
   "cell_type": "markdown",
   "metadata": {},
   "source": [
    "DataTypes\n",
    "\n",
    "Numpy array is made of elements of same type .It provides a set of large numeric data type . It finds the data type during the creation of an array. Can also specify datatype explicitly in the funtions argument."
   ]
  },
  {
   "cell_type": "code",
   "execution_count": 28,
   "metadata": {},
   "outputs": [
    {
     "name": "stdout",
     "output_type": "stream",
     "text": [
      " \n",
      "float64\n"
     ]
    }
   ],
   "source": [
    "# create an array and find its data type\n",
    "\n",
    "arr13 = np.random.rand(3 ,4)\n",
    "print(' ') \n",
    "print(arr13.dtype)                                  # returns the datatype of the array"
   ]
  },
  {
   "cell_type": "code",
   "execution_count": 31,
   "metadata": {},
   "outputs": [
    {
     "name": "stdout",
     "output_type": "stream",
     "text": [
      " \n",
      "int64\n"
     ]
    }
   ],
   "source": [
    "#create a random array and explicitly specify its data type \n",
    "\n",
    "arr14 = np.array([3 , 3] , dtype = np.int64)\n",
    "print(' ') \n",
    "print(arr14.dtype)                                  # returns the datatype of the array\n"
   ]
  },
  {
   "cell_type": "code",
   "execution_count": null,
   "metadata": {},
   "outputs": [],
   "source": []
  }
 ],
 "metadata": {
  "kernelspec": {
   "display_name": "Python 3",
   "language": "python",
   "name": "python3"
  },
  "language_info": {
   "codemirror_mode": {
    "name": "ipython",
    "version": 3
   },
   "file_extension": ".py",
   "mimetype": "text/x-python",
   "name": "python",
   "nbconvert_exporter": "python",
   "pygments_lexer": "ipython3",
   "version": "3.8.3"
  }
 },
 "nbformat": 4,
 "nbformat_minor": 4
}
